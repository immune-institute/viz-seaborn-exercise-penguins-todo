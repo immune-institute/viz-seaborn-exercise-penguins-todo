{
  "nbformat": 4,
  "nbformat_minor": 0,
  "metadata": {
    "colab": {
      "name": "VIZ - Seaborn - Exercise - Penguins - TODO.ipynb",
      "provenance": [],
      "collapsed_sections": [],
      "toc_visible": true,
      "include_colab_link": true
    },
    "kernelspec": {
      "name": "python3",
      "display_name": "Python 3"
    }
  },
  "cells": [
    {
      "cell_type": "markdown",
      "metadata": {
        "id": "view-in-github",
        "colab_type": "text"
      },
      "source": [
        "<a href=\"https://colab.research.google.com/github/immune-institute/viz-seaborn-exercise-penguins-todo/blob/main/VIZ_Seaborn_Exercise_Penguins_TODO.ipynb\" target=\"_parent\"><img src=\"https://colab.research.google.com/assets/colab-badge.svg\" alt=\"Open In Colab\"/></a>"
      ]
    },
    {
      "cell_type": "markdown",
      "metadata": {
        "id": "uYc8xraMceyP"
      },
      "source": [
        "#**WELCOME TO THE ANTARTICA**"
      ]
    },
    {
      "cell_type": "markdown",
      "metadata": {
        "id": "cmj1JxOpNKFZ"
      },
      "source": [
        "![texto alternativo](https://images.pexels.com/photos/48178/mountains-ice-bergs-antarctica-berg-48178.jpeg?auto=compress&cs=tinysrgb&dpr=2&h=750&w=1260)"
      ]
    },
    {
      "cell_type": "markdown",
      "metadata": {
        "id": "OxwUjrD-N0Ce"
      },
      "source": [
        "\n",
        "\n",
        "*   After finishing IMMUNE Bootcamp you have been actively applying for different DS positions where to put in practice your new skills. Today you finally received an acceptance letter from the **National Biology Center** and are required to joined them as soon as possible.\n",
        "\n",
        "\n",
        "*   The NBC is currently doing a researh on the **Antartica** penguin population. They need to **identify the amount of penguins belonging to each different species as well as it sex** in order to identify whether global warming is impacting their spread.\n",
        "\n",
        "\n",
        "*   NBC's main challenge is the great amount of time it takes to train a biologist to **identify different penguin species and their sex**. They believe just comparing different penguin basic characteristics they should be able to recognize each penguin's sex and species.\n",
        "\n",
        "*   They provide you with a **dataset of the last expedition** where you can see both these characteristics for each penguin as well as the sex and specieces already determined by an expert biologist.\n",
        "\n",
        "*   They also provide you with some extra documentation on penguins basic knowledge:\n",
        "\n"
      ]
    },
    {
      "cell_type": "markdown",
      "metadata": {
        "id": "gA0Zb02SVejh"
      },
      "source": [
        "![texto alternativo](https://github.com/immune-institute/viz-seaborn-exercise-penguins-todo/blob/main/pictures/penguins1.png?raw=true)\n",
        "\n",
        "\n",
        "Artwork by @allison_horst\n"
      ]
    },
    {
      "cell_type": "markdown",
      "metadata": {
        "id": "GoqxA6DfWhnf"
      },
      "source": [
        "![texto alternativo](https://ecdn.teacherspayteachers.com/thumbitem/Parts-of-a-Penguin-Matching-Cards-Activities-Montesorri-Style-Hands-on-2940033-1486413093/original-2940033-2.jpg)\n",
        "\n",
        "\n",
        "https://ecdn.teacherspayteachers.com"
      ]
    },
    {
      "cell_type": "markdown",
      "metadata": {
        "id": "HE8w911yWt6d"
      },
      "source": [
        "![texto alternativo](https://github.com/immune-institute/viz-seaborn-exercise-penguins-todo/blob/main/pictures/penguins2.png?raw=true)\n",
        "\n",
        "\n",
        "\n",
        "\n",
        "Artwork by @allison_horst"
      ]
    },
    {
      "cell_type": "markdown",
      "metadata": {
        "id": "HjhiFSByg1dn"
      },
      "source": [
        "![texto alternativo](https://www.zegrahm.com/sites/zeg/files/styles/d2_hero_fp_scale_and_crop_2400x800/public/image509.jpeg?t=1JeDLu&itok=Mt9U-lhp)"
      ]
    },
    {
      "cell_type": "markdown",
      "metadata": {
        "id": "z8tPsNYpftPV"
      },
      "source": [
        "https://www.google.com/maps/d/edit?mid=1TXC1N8z-uv3lD2YKpoicrzTaR3Lc7qfR&usp=sharing"
      ]
    },
    {
      "cell_type": "markdown",
      "metadata": {
        "id": "cbBWGGkb8Eod"
      },
      "source": [
        "##**Setup**"
      ]
    },
    {
      "cell_type": "markdown",
      "metadata": {
        "id": "4tfIeit-8JAH"
      },
      "source": [
        "###**EXERCISE 1**: *"
      ]
    },
    {
      "cell_type": "markdown",
      "metadata": {
        "id": "A7LRgvm68OKh"
      },
      "source": [
        "Import matplotlib, numpy, pandas and seaborn and set your favourite seaborn style:"
      ]
    },
    {
      "cell_type": "code",
      "metadata": {
        "id": "CPz_Vc2UsLtt"
      },
      "source": [
        "#CODE HERE"
      ],
      "execution_count": null,
      "outputs": []
    },
    {
      "cell_type": "markdown",
      "metadata": {
        "id": "6TFkRKc18lvT"
      },
      "source": [
        "###**EXERCISE 2**: *"
      ]
    },
    {
      "cell_type": "markdown",
      "metadata": {
        "id": "Z88iKMlg8np6"
      },
      "source": [
        "Import the penguins built-in dataset:"
      ]
    },
    {
      "cell_type": "code",
      "metadata": {
        "id": "kfBhpO5e8XiG"
      },
      "source": [
        "#CODE HERE"
      ],
      "execution_count": null,
      "outputs": []
    },
    {
      "cell_type": "markdown",
      "metadata": {
        "id": "jnRXVhs1hIjP"
      },
      "source": [
        "##**Initial Understanding**"
      ]
    },
    {
      "cell_type": "markdown",
      "metadata": {
        "id": "m37TqNvNzO5J"
      },
      "source": [
        "You may answer these questions using Pandas."
      ]
    },
    {
      "cell_type": "markdown",
      "metadata": {
        "id": "5xT8q_PYN3V1"
      },
      "source": [
        "###**EXERCISE 3**: *"
      ]
    },
    {
      "cell_type": "markdown",
      "metadata": {
        "id": "QbHC-gVscT1W"
      },
      "source": [
        "Use Pandas to see a sumary of the data (amount of observations, column names, data types...)"
      ]
    },
    {
      "cell_type": "code",
      "metadata": {
        "id": "TqGu-eOzcT1W"
      },
      "source": [
        "#CODE HERE"
      ],
      "execution_count": null,
      "outputs": []
    },
    {
      "cell_type": "markdown",
      "metadata": {
        "id": "T0NfeKNzdjpH"
      },
      "source": [
        "###**EXERCISE 4**: *"
      ]
    },
    {
      "cell_type": "markdown",
      "metadata": {
        "id": "NtCRS2RXN3V3"
      },
      "source": [
        "Remove empty values before jumping into the data:"
      ]
    },
    {
      "cell_type": "code",
      "metadata": {
        "id": "dLwAFT20N3V4"
      },
      "source": [
        "#CODE HERE"
      ],
      "execution_count": null,
      "outputs": []
    },
    {
      "cell_type": "markdown",
      "metadata": {
        "id": "ZYiZGMmrcSdm"
      },
      "source": [
        "###**EXERCISE 5**: *"
      ]
    },
    {
      "cell_type": "markdown",
      "metadata": {
        "id": "183WQxZ1cSdo"
      },
      "source": [
        "Which are the possible values for each categorical column?\n"
      ]
    },
    {
      "cell_type": "code",
      "metadata": {
        "id": "mvZUSy_DcSdo"
      },
      "source": [
        "#CODE HERE"
      ],
      "execution_count": null,
      "outputs": []
    },
    {
      "cell_type": "markdown",
      "metadata": {
        "id": "FBm-lCc7R2R4"
      },
      "source": [
        "What are the main characteristics of each numerical column?"
      ]
    },
    {
      "cell_type": "code",
      "metadata": {
        "id": "ypIC7-1sR2R5"
      },
      "source": [
        "#CODE HERE"
      ],
      "execution_count": null,
      "outputs": []
    },
    {
      "cell_type": "markdown",
      "metadata": {
        "id": "YuL5qsekcl0b"
      },
      "source": [
        "##**Basic Plotting**"
      ]
    },
    {
      "cell_type": "markdown",
      "metadata": {
        "id": "3u16N5KJhlVx"
      },
      "source": [
        "On this section you will have to answer the questions by drawing plots that show the answer:"
      ]
    },
    {
      "cell_type": "markdown",
      "metadata": {
        "id": "hsybrAa2geCT"
      },
      "source": [
        "###**EXERCISE 6**: *"
      ]
    },
    {
      "cell_type": "markdown",
      "metadata": {
        "id": "gfYuPGOtgeCV"
      },
      "source": [
        "How many penguins belong to each species group?"
      ]
    },
    {
      "cell_type": "code",
      "metadata": {
        "id": "WZZpj2uUgeCW"
      },
      "source": [
        "#CODE HERE"
      ],
      "execution_count": null,
      "outputs": []
    },
    {
      "cell_type": "markdown",
      "metadata": {
        "id": "EC9dXSfpj8SN"
      },
      "source": [
        "How many penguins belong to each species group per sex?"
      ]
    },
    {
      "cell_type": "code",
      "metadata": {
        "id": "EHzq48NAj8SO"
      },
      "source": [
        "#CODE HERE"
      ],
      "execution_count": null,
      "outputs": []
    },
    {
      "cell_type": "markdown",
      "metadata": {
        "id": "n8tTqhKQoh8j"
      },
      "source": [
        "How many penguins belong to each species group per island?"
      ]
    },
    {
      "cell_type": "code",
      "metadata": {
        "id": "9CdjIG20oh8k"
      },
      "source": [
        "#CODE HERE"
      ],
      "execution_count": null,
      "outputs": []
    },
    {
      "cell_type": "markdown",
      "metadata": {
        "id": "gqgUJbmtlNA9"
      },
      "source": [
        "Write down your conclusions:"
      ]
    },
    {
      "cell_type": "markdown",
      "metadata": {
        "id": "2oL5rHFclVrC"
      },
      "source": [
        "*WRITE HERE*"
      ]
    },
    {
      "cell_type": "markdown",
      "metadata": {
        "id": "1yjo763t3-WF"
      },
      "source": [
        "###**EXERCISE 7**: *"
      ]
    },
    {
      "cell_type": "markdown",
      "metadata": {
        "id": "Bt67rUP03-WK"
      },
      "source": [
        "What is the average weight of each species?"
      ]
    },
    {
      "cell_type": "code",
      "metadata": {
        "id": "n2YK9Usk3-WL"
      },
      "source": [
        "#CODE HERE"
      ],
      "execution_count": null,
      "outputs": []
    },
    {
      "cell_type": "markdown",
      "metadata": {
        "id": "dF3IJ31aoVp9"
      },
      "source": [
        "What is the average weight of each species per sex?"
      ]
    },
    {
      "cell_type": "code",
      "metadata": {
        "id": "FYAu6cfToVqC"
      },
      "source": [
        "#CODE HERE"
      ],
      "execution_count": null,
      "outputs": []
    },
    {
      "cell_type": "markdown",
      "metadata": {
        "id": "Y3pq-ChjEODX"
      },
      "source": [
        "Write down your conclusions:"
      ]
    },
    {
      "cell_type": "markdown",
      "metadata": {
        "id": "Rs1_CkG2EODZ"
      },
      "source": [
        "*WRITE HERE*"
      ]
    },
    {
      "cell_type": "markdown",
      "metadata": {
        "id": "W0tXbYGZC7Ls"
      },
      "source": [
        "##**Statistical plotting** "
      ]
    },
    {
      "cell_type": "markdown",
      "metadata": {
        "id": "WOqtlLzq9z3f"
      },
      "source": [
        "###**EXERCISE 8**: **"
      ]
    },
    {
      "cell_type": "markdown",
      "metadata": {
        "id": "geL_mNqn9z3h"
      },
      "source": [
        "Build a pairplot to overview feature relationships and try to identify visually any possible pattern\n"
      ]
    },
    {
      "cell_type": "code",
      "metadata": {
        "id": "vgy3DtBv9z3i"
      },
      "source": [
        "#CODE HERE"
      ],
      "execution_count": null,
      "outputs": []
    },
    {
      "cell_type": "markdown",
      "metadata": {
        "id": "o2S9YZN7Fxri"
      },
      "source": [
        "Add an extra dimension to the plot by comparing species."
      ]
    },
    {
      "cell_type": "code",
      "metadata": {
        "id": "kjsO2FKyFxrk"
      },
      "source": [
        "#CODE HERE"
      ],
      "execution_count": null,
      "outputs": []
    },
    {
      "cell_type": "markdown",
      "metadata": {
        "id": "036toavcGTbE"
      },
      "source": [
        "Write down your conclusions:"
      ]
    },
    {
      "cell_type": "markdown",
      "metadata": {
        "id": "JPBiU3I7GTbF"
      },
      "source": [
        "*WRITE HERE*"
      ]
    },
    {
      "cell_type": "markdown",
      "metadata": {
        "id": "8WC5CZhzGXFW"
      },
      "source": [
        "Can you suggest any further similar plotting?\n",
        "\n"
      ]
    },
    {
      "cell_type": "code",
      "metadata": {
        "id": "fTRxFQO9Gcrf"
      },
      "source": [
        "#CODE HERE"
      ],
      "execution_count": null,
      "outputs": []
    },
    {
      "cell_type": "markdown",
      "metadata": {
        "id": "G1xf4_KCY22P"
      },
      "source": [
        "Write down your conclusions:"
      ]
    },
    {
      "cell_type": "markdown",
      "metadata": {
        "id": "4_aGikzpY22P"
      },
      "source": [
        "*WRITE HERE*"
      ]
    },
    {
      "cell_type": "markdown",
      "metadata": {
        "id": "jragPbijBCyG"
      },
      "source": [
        "###**EXERCISE 9**: **"
      ]
    },
    {
      "cell_type": "markdown",
      "metadata": {
        "id": "WjcQ7AYIBCyH"
      },
      "source": [
        "Compare de distribution of body mass among penguin species\n"
      ]
    },
    {
      "cell_type": "code",
      "metadata": {
        "id": "W1fkDiFsBCyH"
      },
      "source": [
        "#CODE HERE"
      ],
      "execution_count": null,
      "outputs": []
    },
    {
      "cell_type": "markdown",
      "metadata": {
        "id": "B1u411mgPK61"
      },
      "source": [
        "Now take also into account species sex"
      ]
    },
    {
      "cell_type": "code",
      "metadata": {
        "id": "c-KJ9mhQBCyJ"
      },
      "source": [
        "#CODE HERE"
      ],
      "execution_count": null,
      "outputs": []
    },
    {
      "cell_type": "markdown",
      "metadata": {
        "id": "DNXajEU5STFd"
      },
      "source": [
        "Write down your conclusions:"
      ]
    },
    {
      "cell_type": "markdown",
      "metadata": {
        "id": "3IkscTPiSTFf"
      },
      "source": [
        "*WRITE HERE*"
      ]
    },
    {
      "cell_type": "markdown",
      "metadata": {
        "id": "WJHxFUVUYZbC"
      },
      "source": [
        "##**Report summary** "
      ]
    },
    {
      "cell_type": "markdown",
      "metadata": {
        "id": "yK61LJr2YZbD"
      },
      "source": [
        "###**EXERCISE 10**: **"
      ]
    },
    {
      "cell_type": "markdown",
      "metadata": {
        "id": "hZVSzvm8Yg_B"
      },
      "source": [
        "What would be your feedback to the biologist lead? Are these characteristics enough to determine penguin species and sex?\n",
        "\n",
        "Did we miss any piece of information we could still study?"
      ]
    },
    {
      "cell_type": "markdown",
      "metadata": {
        "id": "1GM7TK-4Yg_C"
      },
      "source": [
        "*WRITE HERE*"
      ]
    },
    {
      "cell_type": "markdown",
      "metadata": {
        "id": "p8Ss4VfwVTTC"
      },
      "source": [
        "##**References**"
      ]
    },
    {
      "cell_type": "markdown",
      "metadata": {
        "id": "xO1u6FZBVW-k"
      },
      "source": [
        "https://github.com/allisonhorst/palmerpenguins"
      ]
    }
  ]
}